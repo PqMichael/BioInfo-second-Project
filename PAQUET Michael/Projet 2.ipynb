{
 "cells": [
  {
   "cell_type": "markdown",
   "metadata": {},
   "source": [
    "# Mini\tprojet\t2\t:\tL’alignement et les PSSM\n",
    "\n",
    "***\n",
    "\n",
    "**PAQUET Michael (000410753) BA-INFO**\n"
   ]
  },
  {
   "cell_type": "markdown",
   "metadata": {},
   "source": [
    "# Introduction\n",
    "\n",
    "Maintenant que nous avons réussi à aligner une séquence avec une autre, et ce de façon global et local, il serait intéressant de pouvoir aligner une séquence à un profil. Mais qu'est-ce qu'un profil et à quoi peut-il servir ? \n",
    "\n",
    "Afin d'éclaircir cela, il est logique de revenir sur les domaines dont on a brièvement parlé précédemment lors du premier rapport d'analyse. Nous le savons, chaque protéine peut posséder des \"domaines\" représentant une sous-chaine de la protéine ayant des caractéristiques précises. Par exemple, le domaine WW dont il sera sujet ici est un domaine dans lequel sont conservés deux Tryptophanes. \n",
    "\n",
    "Il est évidemment pertinent d'essayer de voir si une protéine donnée possède de tels domaines, et c'est pour cela qu'on a créé les profils. Ceux-ci sont créés sur base de plusieurs séquences dont on sait qu'elles présentent un domaine. En alignant chacune des séquences les unes avec les autres, nous allons obtenir ce genre de résultat : \n",
    "\n",
    "<img src=\"exemple.png\",width=400,height=300>\n",
    "\n",
    "Sur cet exemple-ci, l'alignement met en évidence le domaine WW. L'implémentation d'un tel alignement ne sera pas implémenté ici. Nous utiliserons directement les résultats fournis par des outils tels que CLUSTAL.\n",
    "\n",
    "Sur base de cela, nous pouvons créer un profil qui enregistrera d'une part les fréquences d’acides aminés à chaque position, et d'autre part l’importance évolutive de chaque acide aminé.\n",
    "Profil qui sera ensuite aligné avec une séquence pour pouvoir déterminer si celle-ci possède ou non le domaine voulu.\n",
    "\n",
    "Tout comme pour la partie précédente, nous allons donc procéder comme tel : \n",
    "- Implémentation des méthodes nécessaires\n",
    "- Observation et discution sur les résultats obtenus\n",
    "- Réponses aux problématiques\n"
   ]
  },
  {
   "cell_type": "markdown",
   "metadata": {},
   "source": [
    "# Implémentation\n",
    "\n",
    "Tout d'abord, réintroduisons le code déjà utilisé précedemment nécéssaire pour la suite :"
   ]
  },
  {
   "cell_type": "code",
   "execution_count": 1,
   "metadata": {
    "collapsed": true
   },
   "outputs": [],
   "source": [
    "import numpy as np\n",
    "from math import sqrt\n",
    "from math import log10\n",
    "\n",
    "class Sequence:\n",
    "\n",
    "    def __init__(self, sequence):\n",
    "        self.sequence = sequence\n",
    "        \n",
    "    def __repr__(self):\n",
    "        return \"Sequence :{}\".format(self.sequence)\n",
    "    \n",
    "    def __len__(self):\n",
    "        return len(self.sequence)\n",
    "    \n",
    "    def __getitem__(self, index):\n",
    "        return self.sequence[index]   \n",
    "\n",
    "\n",
    "def parsingSequence(file):\n",
    "    fichier = open(file, \"r\")\n",
    "    reading = False\n",
    "    sequence = \"\"\n",
    "    allSequence = []\n",
    "    \n",
    "    for line in fichier:   #Pour chaques lignes dans le fichier\n",
    "        \n",
    "        if \">\" == line[0] and not reading:  #Croisement du premier >\n",
    "            reading = True \n",
    "            \n",
    "        elif \">\" == line[0] and reading or line[0] == \"\":   #On était en train de lire et on croise un \">\"\n",
    "            allSequence.append(Sequence(sequence)) \n",
    "            sequence = \"\"\n",
    "            \n",
    "        elif reading:     #On continue de lire la séquence\n",
    "            sequence += line.replace(\"\\n\", \"\")\n",
    "            \n",
    "    allSequence.append(Sequence(sequence))\n",
    "    return allSequence"
   ]
  },
  {
   "cell_type": "code",
   "execution_count": 2,
   "metadata": {
    "collapsed": true
   },
   "outputs": [],
   "source": [
    "class MatriceSub:\n",
    "\n",
    "    def __init__(self, myFile):\n",
    "        if isinstance(myFile, str):\n",
    "            self.mat = self.parsingMat(myFile)\n",
    "        else:\n",
    "            self.mat = myFile\n",
    "        self.column = [\"A\",\"R\",\"N\",\"D\",\"C\",\"Q\",\"E\",\"G\",\"H\",\"I\",\"L\",\"K\",\"M\",\"F\",\"P\",\"S\",\"T\",\"W\",\"Y\",\"V\",\"B\",\"Z\",\"X\",\"*\"]\n",
    "        self.line = [\"A\",\"R\",\"N\",\"D\",\"C\",\"Q\",\"E\",\"G\",\"H\",\"I\",\"L\",\"K\",\"M\",\"F\",\"P\",\"S\",\"T\",\"W\",\"Y\",\"V\",\"B\",\"Z\",\"X\",\"*\"]\n",
    "        self.acidesList = [\"R\",\"H\",\"K\",\"D\",\"E\",\"S\",\"T\",\"N\",\"Q\",\"C\",\"G\",\"P\",\"A\",\"I\",\"L\",\"M\",\"F\",\"W\",\"Y\",\"V\",\"-\"]\n",
    "\n",
    "        \n",
    "    def __repr__(self):\n",
    "        return \"Matrice de substitution :\\n\\n{}\\n\".format(self.mat)\n",
    "\n",
    "    def __len__(self):\n",
    "        return len(self.mat)\n",
    "\n",
    "    def __getitem__(self, i):\n",
    "        return self.mat[i]\n",
    "\n",
    "    def index(self, elem):\n",
    "        return self.acidesList.index(elem)\n",
    "\n",
    "    def parsingMat(self, file):\n",
    "        file = open(file, \"r\")\n",
    "        reading = False\n",
    "        mat = []\n",
    "        \n",
    "        for line in file:  #Pour chaque lignes dans le fichier\n",
    "            \n",
    "            if line[0:4] == \"   A\" or line[0:5] == \"    A\":   #On détecte le début de la matrice\n",
    "                reading = True\n",
    "                \n",
    "            elif reading:\n",
    "                \n",
    "                if line[0] == \"*\":  #On détecte la fin\n",
    "                    reading = False\n",
    "                    \n",
    "                ligne = line[2:].replace(\"\\n\", \"\").split(\" \")\n",
    "                voidNumber = 0\n",
    "                \n",
    "                for i in range(len(ligne)):\n",
    "                    if ligne[i] == \"\": \n",
    "                        voidNumber += 1\n",
    "                    else:\n",
    "                        ligne[i] = int(ligne[i])\n",
    "                        \n",
    "                for j in range(voidNumber): #Suppression des caractères vides\n",
    "                    ligne.remove(\"\")\n",
    "                    \n",
    "                mat.append(ligne)\n",
    "        return mat\n",
    "    \n",
    "    def findCoord(self, lineC, columnC):\n",
    "        x = 0\n",
    "        y = 0\n",
    "        for i in range(len(self.line)):\n",
    "            if self.line[i] == lineC:\n",
    "                x = i\n",
    "        for j in range(len(self.column)):\n",
    "            if self.column[j] == columnC:\n",
    "                y = j\n",
    "        return (x, y)\n",
    "\n",
    "    \n",
    "    def readMat(self, lineC, columnC):\n",
    "        coord = self.findCoord(lineC, columnC)\n",
    "        return self.mat[coord[0]][coord[1]]"
   ]
  },
  {
   "cell_type": "markdown",
   "metadata": {},
   "source": [
    "A noter ici que le code a quelque peu été modifié. Nous pouvons désormais créer une matrice de substitution à partir d'un profil.\n",
    "En effet, lors de l'alignement de notre séquence avec le profil, nous n'utiliserons plus une matrice de substitution telle que Blosum ou Pam mais bien notre profil.\n",
    "\n",
    "De plus amples informations sur ces deux ADT se trouvent dans le premier rapport d'analyse."
   ]
  },
  {
   "cell_type": "markdown",
   "metadata": {},
   "source": [
    "## Implémentation du Profil\n",
    "> L'ADT que nous allons aborder ici représente donc un profil, ce dont nous avons parlé plus tôt lors de l'introduction\n",
    "\n",
    "Cet ADT a pour but de construire la matrice PSSM, matrice dont nous ferons notre matrice de substitution lors de l'alignement.\n",
    "Afin de créer ce profil, la liste des séquences est donnée au constructeur sur base de quoi la matrice PFM sera construite.\n",
    "\n",
    "La matrice PFM représente le nombre de fois que l'acide aminé \"i\" a été croisé à la position \"j\" dans l'ensemble des séquences données. Pour cela rien de plus simple, il suffit de parcourir toutes les séquences et d'incrémenter les valeur dans la PFM en fonction de l'acide aminé rencontré ainsi que sa position dans la séquence. \n",
    "\n",
    "Une fois cette matrice obtenue, nous pouvons alors nous attaquer à la matrice qui nous intéresse le plus à savoir la PSSM. \n",
    "Il existe plusieurs façons de créer la PSSM. La manière ici choisie est celle faisant appel aux Pseudo-counts. Cela est efficace grâce aux actions qu'ont les Pseudo-counts sur la PSSM. \n",
    "\n",
    "Les pseudo-counts sont en fait des poids qu'on ajoute à la PSSM. Au plus le pseudo-count est élevé, au plus nous nous attendons à un résultat proche de la réalité. Il est donc important de savoir choisir la valeur attribuée à un tel élement. Cette valeur sera ici directement proportionnelle au nombre de séquences données (égale à la racine du nombre de séquences pour être précis) pour la création du profil. Ce choix s'avère tout à fait logique puisqu'au plus nous donnons de séquences à un profil, au plus ce profil est censé approcher un bon résultat, raison pour laquelle le pseudo-count sera plus élevé.\n",
    "\n",
    "Le pseudo-count sera ici représenté par β.\n",
    "\n",
    "Suite à un procédé mathématique, nous pouvons donc créer notre matrice PSSM représentant en fait la fréquence d'apparition d'un acide aminé \"i\" à la position \"j\". \n"
   ]
  },
  {
   "cell_type": "code",
   "execution_count": 3,
   "metadata": {
    "collapsed": true
   },
   "outputs": [],
   "source": [
    "class Profile:\n",
    "\n",
    "    def __init__(self, myFile, gap):\n",
    "        self.pa = [0.0553, 0.0227, 0.0585, 0.0545, 0.0676, 0.0650, 0.0599, 0.0405, 0.0394, 0.0136, 0.0709, 0.0468, 0.0828, 0.0599, 0.0967, 0.0243, 0.0386, 0.0107, 0.0291, 0.0687, 0]\n",
    "        self.acidesList = [\"R\",\"H\",\"K\",\"D\",\"E\",\"S\",\"T\",\"N\",\"Q\",\"C\",\"G\",\"P\",\"A\",\"I\",\"L\",\"M\",\"F\",\"W\",\"Y\",\"V\",\"-\"]\n",
    "        self.probe = parsingSequence(myFile)\n",
    "        self.β = sqrt(len(self.probe))\n",
    "        self.gap = gap\n",
    "        self.PFM = self.makePFM(self.probe)\n",
    "        self.PSSM = self.makePSSM()\n",
    "\n",
    "\n",
    "    def makePFM(self, probe):\n",
    "        nbAcides = len(probe[0])\n",
    "        nbSequences = len(probe)\n",
    "        PFM = [[0 for i in range(nbAcides)] for j in range(len(self.acidesList))]\n",
    "\n",
    "        for i in range (nbAcides):\n",
    "            for j in range (nbSequences):\n",
    "                acide = probe[j][i]\n",
    "                PFM[self.acidesList.index(acide)][i] += 1\n",
    "\n",
    "        return PFM\n",
    "\n",
    "\n",
    "    def makePSSM(self):\n",
    "        PSSM = [[0 for i in range(len(self.probe[0]))] for j in range(len(self.acidesList))]\n",
    "\n",
    "        for i in range(len(self.acidesList)):\n",
    "            p = self.pa[i]\n",
    "\n",
    "            for j in range(len(self.probe[0])):\n",
    "                n = self.PFM[i][j]\n",
    "                if p != 0: #On a intégré le gap comme étant un acide aminé pour des facilités d'implémentations, et on lui a probabilité d'apparition \"0\" comme valeur sentinelle.\n",
    "                    q = (n + self.β * p) / (len(self.probe) + self.β)\n",
    "                    PSSM[i][j] = round(log10(q/p), 3)\n",
    "                else:\n",
    "                    PSSM[i][j] = self.gap\n",
    "\n",
    "        return PSSM"
   ]
  },
  {
   "cell_type": "markdown",
   "metadata": {},
   "source": [
    "- __--init--__\n",
    "> Fonction d'initialisation : \n",
    "> - _self.pa_ représente les probabilités qu'un acide aminé soit présent n'importe où. Cela aurait pu être fait avec un dictionnaire.\n",
    "> - _self.probe_ représente toutes les séquences qu'on donne au profil.\n",
    "\n",
    "- __makePFM__\n",
    "> Construit la matrice PFM dont on a déjà parlé. \n",
    "\n",
    "- __makePSSM__\n",
    "> - Construit la matrice PSSM sur base de la PFM et du procédé mathématique qui suit la logique suivante :\n",
    "> - $$PSSM[i][j] = m_{u,a} = \\log{\\frac{q_{u,a}}{p_{a}}}$$\n",
    "> - $$q_{u,a} = \\frac{n_{u,a} + βp_{a}}{N_{seq} + β}$$"
   ]
  },
  {
   "cell_type": "markdown",
   "metadata": {},
   "source": [
    "#### Exemple d'execution"
   ]
  },
  {
   "cell_type": "code",
   "execution_count": 5,
   "metadata": {
    "scrolled": false
   },
   "outputs": [
    {
     "name": "stdout",
     "output_type": "stream",
     "text": [
      "Sequence :TGVEAENLLL\n",
      "Sequence :PRAKAEESLS\n",
      "Sequence :GRKDAERQLL\n",
      "\n",
      "Profile résultant de ces séquences :\n",
      "\n",
      "R[-0.436, 0.904, -0.436, -0.436, -0.436, -0.436, 0.622, -0.436, -0.436, -0.436]\n",
      "H[-0.436, -0.436, -0.436, -0.436, -0.436, -0.436, -0.436, -0.436, -0.436, -0.436]\n",
      "K[-0.436, -0.436, 0.6, 0.6, -0.436, -0.436, -0.436, -0.436, -0.436, -0.436]\n",
      "D[-0.436, -0.436, -0.436, 0.628, -0.436, -0.436, -0.436, -0.436, -0.436, -0.436]\n",
      "E[-0.436, -0.436, -0.436, 0.543, -0.436, 0.989, 0.543, -0.436, -0.436, -0.436]\n",
      "S[-0.436, -0.436, -0.436, -0.436, -0.436, -0.436, -0.436, 0.558, -0.436, 0.558]\n",
      "T[0.59, -0.436, -0.436, -0.436, -0.436, -0.436, -0.436, -0.436, -0.436, -0.436]\n",
      "N[-0.436, -0.436, -0.436, -0.436, -0.436, -0.436, 0.747, -0.436, -0.436, -0.436]\n",
      "Q[-0.436, -0.436, -0.436, -0.436, -0.436, -0.436, -0.436, 0.758, -0.436, -0.436]\n",
      "C[-0.436, -0.436, -0.436, -0.436, -0.436, -0.436, -0.436, -0.436, -0.436, -0.436]\n",
      "G[0.525, 0.525, -0.436, -0.436, -0.436, -0.436, -0.436, -0.436, -0.436, -0.436]\n",
      "P[0.689, -0.436, -0.436, -0.436, -0.436, -0.436, -0.436, -0.436, -0.436, -0.436]\n",
      "A[-0.436, -0.436, 0.465, -0.436, 0.904, -0.436, -0.436, -0.436, -0.436, -0.436]\n",
      "I[-0.436, -0.436, -0.436, -0.436, -0.436, -0.436, -0.436, -0.436, -0.436, -0.436]\n",
      "L[-0.436, -0.436, -0.436, -0.436, -0.436, -0.436, -0.436, 0.407, 0.84, 0.675]\n",
      "M[-0.436, -0.436, -0.436, -0.436, -0.436, -0.436, -0.436, -0.436, -0.436, -0.436]\n",
      "F[-0.436, -0.436, -0.436, -0.436, -0.436, -0.436, -0.436, -0.436, -0.436, -0.436]\n",
      "W[-0.436, -0.436, -0.436, -0.436, -0.436, -0.436, -0.436, -0.436, -0.436, -0.436]\n",
      "Y[-0.436, -0.436, -0.436, -0.436, -0.436, -0.436, -0.436, -0.436, -0.436, -0.436]\n",
      "V[-0.436, -0.436, 0.537, -0.436, -0.436, -0.436, -0.436, -0.436, -0.436, -0.436]\n",
      "-[-7, -7, -7, -7, -7, -7, -7, -7, -7, -7]\n",
      "\n",
      "L'acides aminé  R  a une fréquence d'apparition à la position 2 de  0.904\n"
     ]
    }
   ],
   "source": [
    "myFile = \"test.fasta\"\n",
    "gap = -7\n",
    "profile = Profile(myFile, gap)\n",
    "acidesList = [\"R\",\"H\",\"K\",\"D\",\"E\",\"S\",\"T\",\"N\",\"Q\",\"C\",\"G\",\"P\",\"A\",\"I\",\"L\",\"M\",\"F\",\"W\",\"Y\",\"V\",\"-\"]\n",
    "for i in range(len(profile.probe)):\n",
    "    print(profile.probe[i])\n",
    "print(\"\\nProfile résultant de ces séquences :\\n\")\n",
    "for i in range(len(profile.PSSM)):\n",
    "    print(acidesList[i], end=\"\")\n",
    "    print(profile.PSSM[i])\n",
    "    \n",
    "print(\"\\nL'acides aminé \", acidesList[0], \" a une fréquence d'apparition à la position 2 de \", profile.PSSM[0][1])"
   ]
  },
  {
   "cell_type": "markdown",
   "metadata": {},
   "source": [
    "On voit en effet que l'Arginine apparait deux fois sur trois à la deuxième position. Il a donc une forte fréquence d'apparition. Tandis que ce même acide n'apparait nulle part d'autre, raison pour laquelle les autres valeurs pour cette même ligne sont toutes négatives. \n",
    "\n",
    "A noter que la fréquence d'apparition donc on parle n'est pas une probabilité. Les valeurs ne sont donc pas bornées entre 0 et 1."
   ]
  },
  {
   "cell_type": "markdown",
   "metadata": {},
   "source": [
    "## Implémentation de l'alignement d'une séquence à un profil\n",
    "\n",
    "L'alignement d'une séquence avec un profil est en fait tout à fait similaire à l'alignement local entre deux séquences, méthode vue lors du premier rapport d'analyse.\n",
    "\n",
    "La seule différence se situe sur le fait qu'au lieu de lire dans une matrice de substitution telle que Blosum ou Pam lors de la création de la matrice score et lors de la recherche de chemin, nous allons lire dans notre PSSM.\n",
    "\n",
    "A noter que le code de la partie précédente n'est plus affiché ici afin d'éviter d'alourdir la cellule et d'augmenter la visibilité de ce qui est pertinent. Ce code aurait pu être réutilisé mais il a été choisi de faire de nouvelles méthodes pour les mêmes raisons."
   ]
  },
  {
   "cell_type": "code",
   "execution_count": 6,
   "metadata": {
    "collapsed": true
   },
   "outputs": [],
   "source": [
    "class Alignement:\n",
    "\n",
    "    def __init__(self, seq1, t, gap):\n",
    "        self.seq1 = seq1\n",
    "        self.t = t\n",
    "        self.gap = gap\n",
    "        self.score = []\n",
    "        self.chemin = []\n",
    "        self.fin = 0\n",
    "        self.debut = 0\n",
    "        self.result = \"\"\n",
    "\n",
    "    def alignProfile(self, k):\n",
    "        self.score = self.initPScore()\n",
    "        for i in range(k):\n",
    "            solution = []\n",
    "            solution.append(np.max(self.score)) #Recherche du max\n",
    "            i, j = np.where(self.score==solution[0]) #On prend l'indice de ce max\n",
    "            i = i[0] #Il est possible qu'il y ai un max à plusieurs endroits\n",
    "            j = j[0] #on choisi ici de prendre le premier\n",
    "            align1 = \"\"\n",
    "            self.fin = i\n",
    "            self.debut, self.result = self.findProfilWays(int(i), int(j), align1, solution)\n",
    "            print(\"Le domaine trouvé est : \", self.debut, \"-\", self.fin, \"\")\n",
    "            print(\"Séquence résultante : \", self.result)\n",
    "\n",
    "\n",
    "    def initPScore(self):\n",
    "        score = []\n",
    "\n",
    "        for i in range(len(self.seq1)):\n",
    "            score.append([0 for j in range(len(self.t[0]))])\n",
    "        s1 = 0\n",
    "        for i in range(len(self.seq1)):\n",
    "            s2 = 0\n",
    "            for j in range(len(self.t[0])):\n",
    "                score[i][j] = max(score[i-1][j-1] + self.t[self.t.index(self.seq1[s1])][s2], score[i-1][j] + self.t[self.t.index(\"-\")][s2], score[i][j-1] + self.t[self.t.index(\"-\")][s2-1], 0)\n",
    "                score[i][j] = round(score[i][j], 3)\n",
    "                s2 += 1\n",
    "            s1 += 1\n",
    "\n",
    "        return score\n",
    "\n",
    "\n",
    "    def findProfilWays(self, i, j, align1, solution):\n",
    "        self.chemin.append((i, j))\n",
    "        if self.score[i][j] <= 0:\n",
    "            self.reCalculate(self.chemin[-2][0], self.chemin[-2][1])\n",
    "            return (i, align1[::-1])\n",
    "        \n",
    "        else:\n",
    "            if i == 0:\n",
    "                solution.append(self.score[i][j-1])\n",
    "                self.score[i][j] = 0\n",
    "                return self.findProfilWays(i, j-1, align1, solution)\n",
    "                \n",
    "            elif j == 0:\n",
    "                solution.append(self.score[i-1][j])\n",
    "                self.score[i][j] = 0\n",
    "                return self.findProfilWays(i-1, j, align1, solution)\n",
    "                \n",
    "            else:\n",
    "                if round(self.score[i-1][j-1] + self.t[self.t.index(self.seq1[i])][j], 3) == self.score[i][j]:\n",
    "                    align1 += self.seq1[i]\n",
    "                    solution.append(self.score[i-1][j-1])\n",
    "                    self.score[i][j] = 0\n",
    "                    return self.findProfilWays(i-1, j-1, align1, solution)\n",
    "\n",
    "                elif round(self.score[i][j-1] + self.gap, 3) == self.score[i][j]:   \n",
    "                    align1 += self.seq1[i]\n",
    "                    solution.append(self.score[i][j-1])\n",
    "                    self.score[i][j] = 0\n",
    "                    return self.findProfilWays(i, j-1, align1, solution)\n",
    "\n",
    "                elif round(self.score[i-1][j] + self.gap, 3) == self.score[i][j]:\n",
    "                    align1 += \"-\"\n",
    "                    solution.append(self.score[i-1][j])\n",
    "                    self.score[i][j] = 0\n",
    "                    return self.findProfilWays(i-1, j, align1, solution)  \n",
    "                \n",
    "    def reCalculate(self, k, m):\n",
    "        #fonction de recalcul\n",
    "        for i in range(k, len(self.seq1)):\n",
    "            for j in range(m, len(self.t[0])):\n",
    "                if (i, j) not in self.chemin: #On ne recalcul pas les valeurs si celles-ci étaient présentes dans le chemin trouvé\n",
    "                    self.score[i][j] = max(self.score[i-1][j-1] + self.t[self.t.index(self.seq1[i])][j], self.score[i-1][j] + self.gap, self.score[i][j-1] + self.gap, 0)\n",
    "                    self.score[i][j] = round(self.score[i][j], 3)"
   ]
  },
  {
   "cell_type": "markdown",
   "metadata": {},
   "source": [
    "- __--init--__\n",
    "> Fonction d'initialisation : \n",
    "> - self.debut et self.fin sont logiquement le début et la fin du domaine trouvé.\n",
    "> - self.chemin permet de savoir par où on est passé lors du recalcul de la matrice score.\n",
    "> - self.t est la PSSM.\n",
    "\n",
    "- __initPScore__\n",
    "> Va créer la matrice score sur base de la PSSM.\n",
    "> - $$S(i,j) = \\max{\\left(S(i-1,j-1) + PSSM(seq(i),j), S(i-1, j) + gap, S(i, j-1) + gap, 0\\right)}$$\n",
    "\n",
    "- __findProfilWays__\n",
    "> Cherche un chemin dans la matrice score. Il s'agit là de la même méthode utilisée pour l'alignement local lors du premier rapport d'analyse, sauf qu'au lieu de lire dans une matrice de substitution, nous lisons dans notre PSSM.\n",
    "\n",
    "- __reCalculate__\n",
    "> Recalcule la matrice Score à partir de l'endroit où nous nous étions arrêtés lors de la dernière recherche de chemin.\n",
    "\n",
    "- __alignProfil__\n",
    "> Cherche les k premiers alignements dans la matrice score. Cette fonction va donc initier la matrice score, et ensuite rechercher en celle-ci les chemins. Il s'agit là du même genre de méthode que dans le premier rapport d'analyse."
   ]
  },
  {
   "cell_type": "markdown",
   "metadata": {},
   "source": [
    "#### Exemple d'execution"
   ]
  },
  {
   "cell_type": "code",
   "execution_count": 7,
   "metadata": {
    "scrolled": true
   },
   "outputs": [
    {
     "name": "stdout",
     "output_type": "stream",
     "text": [
      "Alignement de la séquence SRNAAEYLLS avec le profil composé des séquences :\n",
      " [Sequence :TGVEAENLLL, Sequence :PRAKAEESLS, Sequence :GRKDAERQLL] \n",
      "\n",
      "Le domaine trouvé est :  0 - 9 \n",
      "Séquence résultante :  RNAAEYLLS\n"
     ]
    }
   ],
   "source": [
    "myFile = \"test.fasta\"\n",
    "gap = -7\n",
    "profile = Profile(myFile, gap)\n",
    "seq1 = \"SRNAAEYLLS\"\n",
    "print(\"Alignement de la séquence\", seq1, \"avec le profil composé des séquences :\\n\", profile.probe, \"\\n\")\n",
    "mat = MatriceSub(profile.PSSM)\n",
    "align = Alignement(seq1, mat, gap)\n",
    "align.alignProfile(1)"
   ]
  },
  {
   "cell_type": "markdown",
   "metadata": {},
   "source": [
    "Cette exemple d'execution n'est pas très révélateur de l'efficacité de l'algorithme, mais une observation plus détaillée de résultats sera faite plus tard dans le rapport."
   ]
  },
  {
   "cell_type": "markdown",
   "metadata": {},
   "source": [
    "# Comparaison des résultats, réponse aux questions\n",
    "\n",
    "Nous allons ici répondre aux demandes du projet, à savoir la résolution de questions et la comparaison/observation de nos résultats.\n",
    "\n",
    "### Observation de la PSSM\n",
    "\n",
    "Pour observer notre PSSM et pouvoir discuter de sa pertinence, il serait intéressant de la comparer avec un WebLogo de la famille WW. En construisant donc le WebLogo sur base de notre fichier contenant les séquences alignées, nous obtenons ceci :\n",
    "\n",
    "<img src=\"weblogo.png\",width=600,height=600>\n",
    "\n",
    "Nous pouvons ici observer plusieurs choses :\n",
    "- Comme dit plutôt, on voit qu'un Tryptophane est fortement voir entièrement conservé à la 6ème et 54ème place.\n",
    "- Une Proline est fortement conservée à la 57ème place.\n",
    "- Une Tyrosine et une Phénylalanine sont fortement conservées à la 18 et 19ème place.\n",
    "- On peut ainsi observer beaucoup de choses.\n",
    "\n",
    "Essayons donc d'afficher notre PSSM et trouver une correlation entre les deux !"
   ]
  },
  {
   "cell_type": "code",
   "execution_count": 8,
   "metadata": {
    "scrolled": true
   },
   "outputs": [
    {
     "name": "stdout",
     "output_type": "stream",
     "text": [
      "R\n",
      "[-1.223, -0.704, -0.475, 0.038, -0.575, -1.223, -0.394, 0.216, 0.682, -0.325, -1.223, 0.09, -0.475, -0.266, -0.168, 0.89, 0.178, -1.223, -1.223, -1.223, -1.223, -0.214, -0.168, -0.575, -0.266, -1.223, -1.223, -1.223, -1.223, -1.223, -1.223, -1.223, -1.223, -0.475, -1.223, -1.223, -1.223, -1.223, -1.223, -1.223, -1.223, -1.223, -1.223, -1.223, -1.223, -1.223, -1.223, -1.223, -1.223, 0.694, 0.267, -0.475, -0.053, -1.223, -0.575, 0.569, -1.223, 0.751, -0.214]\n",
      "H\n",
      "[-1.223, -1.223, -0.403, -1.223, -0.403, -1.223, -1.223, -1.223, 0.629, 0.196, 0.24, -0.047, -0.136, 0.196, -1.223, -1.223, -0.25, -1.223, -1.223, -0.643, 0.533, 1.365, -1.223, -1.223, -1.223, -1.223, -1.223, -1.223, -1.223, -1.223, -1.223, -1.223, -0.643, -1.223, -1.223, -1.223, -1.223, -1.223, -1.223, -1.223, -1.223, -1.223, -1.223, -1.223, -1.223, -1.223, -0.403, -1.223, -1.223, -0.643, -1.223, -1.223, -0.643, -1.223, 0.35, 0.785, -1.223, 0.028, -1.223]\n",
      "K\n",
      "[-0.593, -1.223, -0.043, -0.347, -0.593, -1.223, -0.043, 0.404, 0.015, 0.304, -1.223, -0.19, -1.223, -0.347, -0.19, 0.304, -0.19, -1.223, -1.223, -1.223, -1.223, -0.593, -0.414, -1.223, -1.223, -0.288, -1.223, -1.223, -1.223, -1.223, -1.223, -1.223, -1.223, -1.223, -1.223, -1.223, -1.223, -1.223, -1.223, -1.223, -1.223, -1.223, -1.223, -1.223, -1.223, -1.223, -1.223, -1.223, -1.223, 0.664, -0.013, -0.903, -1.223, -1.223, 0.09, 0.275, -1.223, 0.192, -0.236]\n",
      "D\n",
      "[0.333, -1.223, -0.7, -0.082, -0.388, -1.223, -1.223, -1.223, -0.887, -0.7, 0.908, 0.016, 0.203, 0.273, -0.57, -0.47, -0.887, -1.223, -1.223, -1.223, 0.798, -0.7, 0.071, -0.162, -1.223, -1.223, -1.223, -1.223, -1.223, -1.223, -1.223, -0.47, -1.223, -0.887, -1.223, -1.223, -1.223, -1.223, -1.223, -1.223, -1.223, -1.223, -1.223, -1.223, -1.223, -1.223, -1.223, -0.47, -1.223, -0.32, -0.57, -1.223, -1.223, -1.223, 0.222, 0.741, -1.223, 0.016, 0.304]\n",
      "E\n",
      "[0.15, -0.935, -0.247, 0.257, 0.053, -1.223, 0.935, 0.654, -0.4, -0.072, -0.763, 0.183, -0.467, 0.031, -0.545, -0.133, -1.223, -1.223, -1.223, -1.223, -1.223, -0.292, 0.167, -0.017, -1.223, -1.223, -1.223, -1.223, -1.223, -0.545, -1.223, -1.223, -1.223, -1.223, -1.223, -1.223, -1.223, -1.223, -1.223, -0.545, -1.223, -1.223, -1.223, -1.223, -1.223, -1.223, -1.223, -1.223, -1.223, -0.292, 0.27, -1.223, -0.545, -1.223, 0.759, -0.935, -0.545, -0.4, 0.132]\n",
      "S\n",
      "[-0.001, -0.056, -0.386, -0.028, -0.086, -1.223, -0.231, -0.532, -0.752, -0.532, 0.312, 0.11, 0.286, 0.023, -0.752, -1.223, -0.328, -1.223, -1.223, -1.223, -0.532, -0.386, -0.386, 0.245, -1.223, -1.223, -1.223, -1.223, -1.223, -1.223, -1.223, -1.223, -1.223, -1.223, -1.223, -1.223, -0.927, -1.223, -1.223, -1.223, -0.532, -1.223, -1.223, -0.532, -1.223, -1.223, -1.223, -1.223, -0.532, -0.277, -0.001, 0.484, 0.148, -1.223, -0.628, -0.152, -1.223, -0.028, -0.231]\n",
      "T\n",
      "[-0.053, -0.053, -1.223, 0.057, -1.223, -1.223, 0.057, -0.158, -0.601, 0.279, 0.635, -0.085, -0.423, 0.08, -1.223, -1.223, 0.519, -1.223, -1.223, -0.909, -1.223, 0.006, 0.057, 0.903, -1.223, -0.728, -0.728, -0.297, -1.223, -1.223, -1.223, -1.223, -0.503, -1.223, -1.223, -1.223, -1.223, -1.223, -1.223, -1.223, -1.223, -1.223, -1.223, -1.223, -1.223, -1.223, -1.223, -1.223, -1.223, -1.223, 0.752, 1.02, 0.776, -1.223, 0.006, -1.223, -1.223, 0.164, 0.279]\n",
      "N\n",
      "[-0.466, -0.813, -0.0, -0.606, 0.108, -1.223, -1.223, -1.223, -0.466, -0.606, -1.223, -0.0, 0.039, 0.399, -0.606, -1.223, -1.223, -1.223, -1.223, -1.223, 1.102, -0.361, 0.874, 0.473, -1.223, -1.223, -1.223, -1.223, -1.223, -1.223, -0.361, -1.223, -1.223, -1.223, -1.223, -1.223, -1.223, -1.223, -1.223, -1.223, -1.223, -1.223, -1.223, -1.223, -1.223, -0.813, -1.223, -1.223, 0.138, 0.039, -1.223, -1.223, -1.223, -1.223, -0.813, -0.0, -1.223, -1.223, -0.466]\n",
      "Q\n",
      "[-0.265, -1.223, 0.011, -0.597, -0.194, -1.223, -0.133, 0.358, -1.223, 0.231, -1.223, 0.011, -0.032, 0.119, -1.223, 0.206, -0.35, -0.806, -1.223, -1.223, -1.223, -1.223, 0.231, -0.597, -0.194, -1.223, -0.806, -1.223, -1.223, -1.223, -0.806, -1.223, -1.223, -1.223, -1.223, -1.223, -1.223, -1.223, -0.806, -1.223, -1.223, -1.223, -1.223, -1.223, -1.223, -1.223, -1.223, -1.223, -1.223, 0.32, 0.086, -0.806, 0.864, -1.223, 0.278, -1.223, -1.223, 0.086, -1.223]\n",
      "C\n",
      "[-0.208, -1.223, -1.223, 0.24, -1.223, -1.223, 0.164, -0.208, 0.24, -1.223, -0.208, -1.223, -1.223, 0.24, -1.223, -0.469, 0.164, -1.223, -1.223, -1.223, -1.223, -0.046, -1.223, -1.223, -1.223, -1.223, -1.223, 0.072, -1.223, -1.223, -1.223, -1.223, -1.223, -1.223, -1.223, -1.223, -1.223, -1.223, -1.223, -1.223, -1.223, -1.223, -1.223, -1.223, -1.223, -1.223, -1.223, -1.223, -1.223, -1.223, -0.046, -0.208, 0.164, 0.305, -1.223, -1.223, -1.223, 0.164, 0.24]\n",
      "G\n",
      "[0.13, -0.777, -0.484, -0.091, 0.903, -1.223, -0.561, -1.223, 0.094, -1.223, -1.223, -0.484, -0.12, -1.223, 1.04, -0.063, -0.945, -1.223, -1.223, -1.223, -1.223, -1.223, -0.561, -0.561, -1.223, -1.223, -1.223, -1.223, -0.484, -1.223, -1.223, -1.223, -1.223, -1.223, -1.223, -0.945, -1.223, -1.223, -1.223, -1.223, -1.223, -1.223, -1.223, -0.945, -1.223, -1.223, -1.223, -1.223, -1.223, 0.333, -1.223, -0.945, -0.945, -1.223, -1.223, -1.223, -1.223, -0.418, -0.091]\n",
      "P\n",
      "[0.801, -0.02, 1.165, 0.853, 0.206, -1.223, -1.223, -0.414, -1.223, -1.223, -1.223, 0.686, -0.85, -1.223, -1.223, -1.223, 0.541, -1.223, -1.223, -1.223, -1.223, 0.183, 0.048, -1.223, -1.223, -1.223, -1.223, -1.223, -1.223, -1.223, -1.223, -1.223, -1.223, -1.223, -1.223, -1.223, -1.223, -1.223, -1.223, -0.85, -0.85, -0.85, -0.331, -1.223, -1.223, -1.223, -1.223, -1.223, -1.223, -1.223, -0.85, -1.223, -1.223, -0.85, -1.223, 0.107, 1.294, -0.85, -0.101]\n",
      "A\n",
      "[-0.474, -0.418, -0.704, -0.009, -0.976, -1.223, -1.223, -0.474, 0.21, -1.223, -0.284, 0.048, -0.418, -1.223, -1.223, -0.325, -0.976, -1.223, -1.223, -0.418, -1.223, -0.099, -0.613, -0.369, -1.223, -0.976, -1.223, -0.704, -1.223, -1.223, -1.223, -1.223, -1.223, -1.223, -1.223, -1.223, -1.223, -1.223, -1.223, -1.223, -1.223, -1.223, -1.223, -1.223, -1.223, -1.223, -1.223, -1.223, -1.223, -1.223, -0.418, -0.976, -0.418, -1.223, -0.538, -1.223, -1.223, -0.369, -0.538]\n",
      "I\n",
      "[-0.199, -0.503, -1.223, -1.223, -0.601, -1.223, -0.728, -0.297, 0.057, 0.346, -0.601, -0.199, -1.223, -0.728, -0.601, -0.423, 0.234, -1.223, -1.223, 0.629, -1.223, -0.246, 0.164, -0.601, -1.223, -1.223, -1.223, -1.223, -1.223, -1.223, -1.223, -1.223, -1.223, -1.223, -1.223, -1.223, -1.223, -1.223, -1.223, -1.223, -1.223, -1.223, -1.223, -1.223, -1.223, -1.223, -1.223, -0.246, -1.223, -1.223, -0.12, -1.223, -1.223, -0.503, -0.085, -1.223, -1.223, -0.503, -0.503]\n",
      "L\n",
      "[-0.243, 0.854, -1.223, -0.591, -1.004, -1.223, -0.663, -1.223, -0.529, -0.474, -1.004, -0.474, -1.223, -0.343, -1.223, -0.529, -1.223, -1.004, -1.223, -0.274, -1.223, -0.529, -0.591, -0.75, -1.223, -1.223, -0.663, -1.223, -1.223, -1.223, -1.223, -1.223, -1.223, -1.223, -1.004, -1.223, -1.223, -1.004, -1.223, -1.223, -1.223, -1.223, -1.223, -1.223, -1.223, -1.223, -1.223, -0.858, -1.223, -0.75, -0.307, -1.223, -0.858, -1.223, 0.133, -0.274, -1.223, -1.004, 0.355]\n",
      "M\n",
      "[-1.223, -1.223, -0.665, -1.223, -0.163, -1.223, -0.0, 0.692, -1.223, -0.074, -1.223, -0.665, -1.223, -0.276, -1.223, -0.428, -0.665, -0.428, -1.223, -1.223, -1.223, -1.223, -1.223, -0.665, -1.223, -1.223, -1.223, -1.223, -1.223, -1.223, -1.223, -1.223, -1.223, -1.223, -1.223, -1.223, -1.223, -1.223, -1.223, -1.223, -1.223, -1.223, -1.223, -1.223, -1.223, -1.223, -1.223, -1.223, -1.223, -1.223, -1.223, -1.223, 0.118, -1.223, -1.223, -0.428, -1.223, -0.665, 0.321]\n",
      "F\n",
      "[0.128, -1.223, -1.223, -1.223, -1.223, -1.223, -1.223, -1.223, -1.223, 0.348, -1.223, -0.071, -1.223, -0.449, -0.8, -0.59, -0.449, 0.762, 0.916, 0.02, -1.223, -0.257, -0.186, -1.223, -1.223, -1.223, -1.223, -1.223, -1.223, -1.223, -1.223, -1.223, -1.223, -1.223, -1.223, -1.223, -1.223, -1.223, -1.223, -1.223, -1.223, -1.223, -1.223, -1.223, -0.8, -1.223, -1.223, -1.223, -1.223, -1.223, -1.223, -1.223, -1.223, 0.286, -1.223, -0.8, -1.223, -0.257, -0.59]\n",
      "W\n",
      "[-1.223, -1.223, -1.223, 0.052, -1.223, 1.937, -0.113, -1.223, -1.223, 0.732, -1.223, -1.223, -1.223, -1.223, -1.223, 0.341, -1.223, -1.223, -1.223, 0.856, -1.223, -1.223, -1.223, -1.223, -1.223, -1.223, -1.223, -1.223, -1.223, -1.223, -1.223, -0.381, -1.223, -1.223, -1.223, -1.223, -1.223, -1.223, -1.223, -1.223, -1.223, -1.223, -1.223, -1.223, -1.223, -1.223, -1.223, -1.223, -1.223, -1.223, -1.223, -1.223, -1.223, 1.853, -1.223, -1.223, -1.223, -1.223, 0.558]\n",
      "Y\n",
      "[-0.493, -1.223, -1.223, 0.212, -1.223, -0.234, -0.073, 0.092, 0.359, 0.487, -1.223, -0.345, -1.223, -1.223, 0.136, -0.234, -0.345, 1.38, 1.333, 0.868, -1.223, -1.223, -1.223, -1.223, -1.223, -1.223, -1.223, -1.223, -1.223, -1.223, -1.223, -1.223, -1.223, -1.223, -1.223, -1.223, -1.223, -1.223, -1.223, -1.223, -1.223, -1.223, -1.223, -1.223, -0.234, -1.223, -1.223, -1.223, -1.223, -1.223, -1.223, -1.223, -1.223, 0.333, -1.223, -1.223, -1.223, -0.345, -0.073]\n",
      "V\n",
      "[-0.768, -0.14, -0.646, -0.938, -0.349, -1.223, -0.05, -0.174, 0.088, 0.16, -0.938, -0.349, -1.223, -0.406, -0.938, -0.212, 0.589, -0.768, -1.223, 0.619, -1.223, -0.406, -0.212, -1.223, -0.938, -0.551, -0.349, -1.223, -1.223, -0.938, -1.223, -1.223, -1.223, -1.223, -1.223, -1.223, -1.223, -1.223, -1.223, -1.223, -1.223, -0.551, -1.223, -1.223, -1.223, -1.223, -1.223, -1.223, -1.223, -1.223, -0.078, -0.108, -0.349, -1.223, -0.938, -1.223, -1.223, 0.263, -0.14]\n"
     ]
    }
   ],
   "source": [
    "myFile = \"myresults-CLUSTAL.fasta\"\n",
    "gap = -7\n",
    "profile = Profile(myFile, gap)\n",
    "for i in range(len(profile.PSSM)-1):\n",
    "    print(acidesList[i])\n",
    "    print(profile.PSSM[i])"
   ]
  },
  {
   "cell_type": "markdown",
   "metadata": {},
   "source": [
    "L'affichage est quelque peu désordonné, mais il reste facile d'observer les résultats.\n",
    "\n",
    "- Allons à la ligne \"W\" et comparons cela : dans notre PSSM, on observe deux valeurs hautes à savoir 1.937 et 1.853 à la 6ème place et à la 54ème place, tout comme le montre le Weblogo !\n",
    "- Pour la Proline maintenant, on observe une valeur haute à savoir 1.294 à la 57ème, une fois de plus comme le montre le Weblogo. On peut également vérifier qu'à la 57ème place, aucun autre acide aminé n'a une valeur positive puisqu'aucun d'entre eux n'est bien conservé à cette place là. Petite observation supplémentaire : Malgré le fait que sur le Weblogo, la Proline prend une place aussi importante que les Tryptophanes aux places n°6 et n°54, celle-ci n'a pas forcément une valeur égale aux Tryptophanes dans la PSSM.\n",
    "- On observe que tout comme le Weblogo le montre, les Tyrosines et Phénylalanines sont les seuls acides aminés à avoir une valeur haute pour la 18ème et 19ème place.\n",
    "\n",
    "On pourrait ainsi observer l'ensemble des résultats, mais il semble clair qu'il existe une forte corrélation entre les deux structures. Cela est bien évidemment logique puisque ces deux objets sont tout deux censés nous montrer quels sont les acides aminés bien conservés pour chaque position dans la séquence.\n",
    "\n",
    "Continuons maintenant notre comparaison avec une nouvelle structure : les HMM-logo. Pour cela, on se rend sur le site PFAM et on affiche le HMM-logo pour la famille WW. Voici donc ce HMM-logo :\n",
    "\n",
    "\n",
    "<img src=\"hmmlogo.png\",width=600,height=600>\n",
    "\n",
    "Il n'est nul besoin d'à nouveau observer la totalité du logo ici-présent, puisque celui-ci ressemble fortement au Weblogo déjà observé.\n",
    "A noter tout de même que celui-ci explique peut-être une de nos observations quant aux Prolines : On voit ici que contrairement au Weblogo, la Proline n'occupe pas une place aussi importante que dans le Weblogo, ce qui induit le fait que la valeur observée dans notre PSSM pour la Proline à cette place là n'est pas aussi haute que celles des Tryptophanes aux 6ème et 54ème place.\n",
    "\n",
    "Il est cependant important de se rendre compte du fait que le nom de \"WW domain\" parrait maintenant tout à fait logique. Il s'agit là, comme dit précédemment, d'un domaine dans lequel deux Tryptophanes sont fortement conservés à deux endroits distincts dans la séquence.\n",
    "\n",
    "Petit complément d'information sur les deux Logos importés. On peut expliquer leur légère différence de la façon suivante : Puisque notre WebLogo a été créé sur base de notre fichier \"myresult-CLUSTAL\" qui contient nos 136 domaines WW, il est supposé logique qu'il diffère du HMM-logo qui lui se base sur l'entièreté des domaines WW. On peut donc suggérer que le HMM-logo ici-présent est plus proche de la réalité que notre Web-logo. "
   ]
  },
  {
   "cell_type": "markdown",
   "metadata": {},
   "source": [
    "### Recherche des domaines WW dans nos protéines\n",
    "\n",
    "Commençons d'abord par rechercher les domaines WW des protéines présentes dans le fichier protéine-séquence.fasta.\n",
    "Pour cela, nous devons tout d'abord créer notre profil et donc chercher les séquences nécessaires à cette création.\n",
    "Il nous est pour cela conseillé de nous rendre sur le site SMART sur lequel est disponnible un ensemble de séquences qui représente la famille WW.\n",
    "\n",
    "Une fois ces séquences collectées, il nous faut les aligner, et ce via CLUSTAL, TCoffee ou MUSCLE. Nous choisirons ici CLUSTAL.\n",
    "\n",
    "Maintenant que nous avons nos séquences alignées présentes dans un fichier, nous pouvons créer un profil adéquat et répondre à la problématique. \n",
    "\n",
    "Commençons d'abord par afficher les domaines WW repris d'Uniprot, et affichons ensuite nos résultats pour pouvoir les comparer.\n",
    "Voici les domaines d'Uniprot: \n",
    "\n",
    "<img src=\"domaine.png\",width=600,height=800>\n",
    "\n",
    "Et voici maintenant nos résultats : "
   ]
  },
  {
   "cell_type": "code",
   "execution_count": 9,
   "metadata": {
    "scrolled": false
   },
   "outputs": [
    {
     "name": "stdout",
     "output_type": "stream",
     "text": [
      "Alignement de la séquence numéro : 1\n",
      "Le domaine trouvé est :  228 - 252 \n",
      "Séquence résultante :  LPDGWEQAMTQQDGEIYYINHKN\n",
      "\n",
      "Alignement de la séquence numéro : 2\n",
      "Le domaine trouvé est :  609 - 632 \n",
      "Séquence résultante :  LPPGWEERQDIILGRTYYVNHES\n",
      "\n",
      "Alignement de la séquence numéro : 3\n",
      "Le domaine trouvé est :  144 - 162 \n",
      "Séquence résultante :  WTEHKSPPDGRTYYYNTET\n",
      "\n",
      "Alignement de la séquence numéro : 4\n",
      "Le domaine trouvé est :  5 - 28 \n",
      "Séquence résultante :  LPPGWEKRMSRSSGRVYYFNHIT\n",
      "\n"
     ]
    }
   ],
   "source": [
    "myFile = \"myresults-CLUSTAL.fasta\"\n",
    "gap = -4\n",
    "profile = Profile(myFile, gap)\n",
    "mat = MatriceSub(profile.PSSM)\n",
    "sequences = parsingSequence(\"protein-sequences.fasta\")\n",
    "\n",
    "for i in range (len(sequences)):\n",
    "    seq1 = sequences[i]\n",
    "    print(\"Alignement de la séquence numéro :\", i+1)\n",
    "    align = Alignement(seq1, mat, gap)\n",
    "    align.alignProfile(1)\n",
    "    print()"
   ]
  },
  {
   "cell_type": "markdown",
   "metadata": {},
   "source": [
    "Nous trouvons donc un domaine pour chacune des protéines. Comparons ces résultats avec Uniprot. \n",
    "\n",
    "Pour ce qui est de YAP1_HUMAN : \n",
    "- Notre résultat : 228-252\n",
    "- Uniprot :        230-263\n",
    "\n",
    "NEDD4_HUMAN :\n",
    "- Notre résultat : 609-632\n",
    "- Uniprot :        610-643\n",
    "\n",
    "PR40A_HUMAN :\n",
    "- Notre résultat : 144-162\n",
    "- Uniprot :        140-173\n",
    "\n",
    "PIN1_HUMAN :\n",
    "- Notre résultat : 5-28\n",
    "- Uniprot :        5-39\n",
    "\n",
    "Nous pouvons observer que pour chacune des protéines nos résultats sont très proches de la vérité. Ils sont certes précis, mais pas à 100%. En effet, notre algorithme ne trouve à chaque fois qu'une partie seulement du domaine et non le domaine entier. Cela peut s'expliquer par le fait que dans notre profil, après le 24ème acide aminé, une grosse séquence de gap apparait : \n",
    "\n",
    "<img src=\"gap.png\",width=400,height=300>\n",
    "\n",
    "Il est donc normal que notre alignement n'aligne pas les séquences avec cette partie du profil et que nous nous retronvons donc avec des domaines dont la taille est de l'ordre de ~25 acides aminés.\n",
    "\n",
    "On peut si on le souhaite réitérer l'opération avec un gap différent et observer de nouveaux résultats.\n",
    "\n"
   ]
  },
  {
   "cell_type": "code",
   "execution_count": 10,
   "metadata": {},
   "outputs": [
    {
     "name": "stdout",
     "output_type": "stream",
     "text": [
      "Alignement de la séquence numéro : 1\n",
      "Le domaine trouvé est :  160 - 192 \n",
      "Séquence résultante :  LPAGWEMAKTSSSGQRYFLNHI\n",
      "\n",
      "Alignement de la séquence numéro : 2\n",
      "Le domaine trouvé est :  864 - 913 \n",
      "Séquence résultante :  LPPGWEERTHTTDGRIFYINHN\n",
      "\n",
      "Alignement de la séquence numéro : 3\n",
      "Le domaine trouvé est :  167 - 203 \n",
      "Séquence résultante :  L-KCPWKEYKSDSSGKPYYYNSQT\n",
      "\n",
      "Alignement de la séquence numéro : 4\n",
      "Le domaine trouvé est :  5 - 28 \n",
      "Séquence résultante :  LPPGWEKRMSRSSGRVYYFNHIT\n",
      "\n"
     ]
    }
   ],
   "source": [
    "gap = -0.5\n",
    "profile = Profile(myFile, gap)\n",
    "mat = MatriceSub(profile.PSSM)\n",
    "\n",
    "for i in range (len(sequences)):\n",
    "    seq1 = sequences[i]\n",
    "    print(\"Alignement de la séquence numéro :\", i+1)\n",
    "    align = Alignement(seq1, mat, gap)\n",
    "    align.alignProfile(1)\n",
    "    print()"
   ]
  },
  {
   "cell_type": "markdown",
   "metadata": {},
   "source": [
    "Cette fois ci, notre résultat pour YAP1_HUMAN trouve un nouveau domaine. Il s'agit là en fait d'un autre domaine WW de la protéine. En effet celle-ci en possède deux nous indique Uniprot, à savoir 230-262 comme dit précédemment, mais aussi 171-204.\n",
    "\n",
    "Tandis qu'il se passe quelque chose d'étrange à première vue pour PR40A_HUMAN et NEDD4_HUMAN. En effet, l'intervale trouvé semble entre les deux réels domaines des protéines.\n",
    "\n",
    "PR40A_HUMAN :\n",
    "- Interval trouvé : 167-203\n",
    "- Uniprot : WW1 = 140-173, WW2 = 181-214\n",
    "\n",
    "NEDD4_HUMAN\n",
    "- Interval trouvé : 864-913\n",
    "- Uniprot : WW3 = \t840 – 873, WW4 = 892 – 925\n",
    "\n",
    "On pourrait expliquer cela par le fait que puisque deux domaines WW sont proches l'un de l'autre dans la protéine, le deuxième Tryptophan du premier domaine est proche du premier Tryptophan du deuxième domaine. Notre algorithme, pas aussi précis qu'on le souhaitrait, pense peut-être qu'il s'agit donc là d'un domaine WW.\n",
    "\n",
    "Il semble en tout cas une mauvaise idée de prendre -0.5 pour gap puisque l'efficacité de l'algorithme s'en retrouve réduit.\n",
    "\n",
    "Qu'en est-il maintenant lorsque nous essayons de faire un alignement avec une valeur pour k > 1 ? "
   ]
  },
  {
   "cell_type": "code",
   "execution_count": 11,
   "metadata": {},
   "outputs": [
    {
     "name": "stdout",
     "output_type": "stream",
     "text": [
      "Alignement de la séquence numéro : 1\n",
      "Le domaine trouvé est :  228 - 252 \n",
      "Séquence résultante :  LPDGWEQAMTQQDGEIYYINHKN\n",
      "Le domaine trouvé est :  166 - 192 \n",
      "Séquence résultante :  LPAGWEMAKTSSSGQRYFLNHI\n",
      "Le domaine trouvé est :  261 - 263 \n",
      "Séquence résultante :  \n",
      "\n",
      "Alignement de la séquence numéro : 2\n",
      "Le domaine trouvé est :  609 - 632 \n",
      "Séquence résultante :  LPPGWEERQDIILGRTYYVNHES\n",
      "Le domaine trouvé est :  888 - 913 \n",
      "Séquence résultante :  LPPGWEERTHTTDGRIFYINHN\n",
      "Le domaine trouvé est :  764 - 789 \n",
      "Séquence résultante :  LPPGWEEKQDEERGRSYYVDHNS\n",
      "\n",
      "Alignement de la séquence numéro : 3\n",
      "Le domaine trouvé est :  144 - 162 \n",
      "Séquence résultante :  WTEHKSPPDGRTYYYNTET\n",
      "Le domaine trouvé est :  180 - 203 \n",
      "Séquence résultante :  SKCPWKEYKSDSSGKPYYYNSQT\n",
      "Le domaine trouvé est :  162 - 172 \n",
      "Séquence résultante :  KQSTWEKPDD\n",
      "\n",
      "Alignement de la séquence numéro : 4\n",
      "Le domaine trouvé est :  5 - 28 \n",
      "Séquence résultante :  LPPGWEKRMSRSSGRVYYFNHIT\n",
      "Le domaine trouvé est :  30 - 36 \n",
      "Séquence résultante :  SQWERP\n",
      "Le domaine trouvé est :  35 - 43 \n",
      "Séquence résultante :  SSSG\n",
      "\n"
     ]
    }
   ],
   "source": [
    "myFile = \"myresults-CLUSTAL.fasta\"\n",
    "gap = -4\n",
    "profile = Profile(myFile, gap)\n",
    "mat = MatriceSub(profile.PSSM)\n",
    "sequences = parsingSequence(\"protein-sequences.fasta\")\n",
    "\n",
    "for i in range (len(sequences)):\n",
    "        seq1 = sequences[i]\n",
    "        print(\"Alignement de la séquence numéro :\", i+1)\n",
    "        align = Alignement(seq1, mat, gap)\n",
    "        align.alignProfile(3)\n",
    "        print()"
   ]
  },
  {
   "cell_type": "markdown",
   "metadata": {},
   "source": [
    "Aligner avec une valeur pour k>1 s'avère être pertinent ! En effet, on peut observer deux choses intéressantes : \n",
    "- Pour la première protéine, par exemple, qui comporte deux domaines WW, produire un alignement avec une valeur pour k>1 permet de trouver ces deux domaines ! On observe la même chose pour les autres protéines comportant plusieurs domaines WW.\n",
    "- Pour la troisième protéine maintenant, on observe qu'à la troisième itération, notre algorithme trouve un nouveau bout de domaine non trouvé précédemment. Le domaine \"140-173\" dont on avait trouvé la partie \"144-162\" est maintenant complètée par la partie \"162-172\". On peut donc supposer selon nos résultats que le domaine est \"144-172\", ce qui représente un résultat encore plus proche de la réalité que ce qu'il était avant ! \n",
    "\n",
    "Le genre de résultat dont on parle au deuxième point peut à nouveau facilement s'expliquer. Prenons à nouveau cette image-ci :\n",
    "\n",
    "<img src=\"partie.png\",width=400,height=300>\n",
    "\n",
    "A la première itération, notre algorithme aligne notre protéine avec la première partie indiquée sur le schéma. Celui-ci s'arrête après pour les raisons déjà expliquées plus haut. Ensuite, lors d'une nouvelle itération, notre algorithme aligne simplement notre séquence avec la deuxième partie du profil mis en évidence dans le schéma. Deuxième partie qui par ailleurs a une taille de 10 acides aminés, tout comme le montre notre résultat (162-172).\n",
    "Ceci est bien évidemment un cas général et non un résultat présent dans 100% des cas. On peut par exemple observer pour la dernière protéine qu'à une deuxième itération sur le même domaine, on ne trouve pas \"28-39\" mais \"30-36\". Notre algorithme n'est donc pas aussi précis qu'on le souhaitrait, comme déjà dis plus haut.\n",
    "\n",
    "Cette non-précision permet d'ouvrir une légère parenthèse : On pourrait améliorer notre algorithme en implémentant un gap affine, mais ceci n'a pas été fait lors de ce projet-ci. Diverses informations quant à ce genre d'implémentation se trouve dans le pdf nommé \"RM profiles and alignements\" joint avec le rapport. Les gaps affines ne représentent pas la seule amélioration possible. En effet, la construction de notre PSSM se fait via une méthode utilisant les pseudo-counts, mais il existe une méthode améliorée utilisant également les pseudo-counts."
   ]
  },
  {
   "cell_type": "markdown",
   "metadata": {
    "collapsed": true
   },
   "source": [
    "# Conclusion\n",
    "\n",
    "Après avoir réussi à aligner deux séquences entre elles, nous avons maintenant réussi à aligner une séquence à un profil afin de trouver un domaine voulu au sein de celle-ci, ce qui répond pleinement aux attentes de la problématique. En plus de cela, après comparaison avec Uniprot, nous avons pu prouver la pertinence de nos résultats. \n",
    "\n",
    "Des améliorations restent cependant possibles afin de rendre plus précis notre algorithme. "
   ]
  },
  {
   "cell_type": "code",
   "execution_count": null,
   "metadata": {
    "collapsed": true
   },
   "outputs": [],
   "source": []
  }
 ],
 "metadata": {
  "kernelspec": {
   "display_name": "Python 3",
   "language": "python",
   "name": "python3"
  },
  "language_info": {
   "codemirror_mode": {
    "name": "ipython",
    "version": 3
   },
   "file_extension": ".py",
   "mimetype": "text/x-python",
   "name": "python",
   "nbconvert_exporter": "python",
   "pygments_lexer": "ipython3",
   "version": "3.6.1"
  }
 },
 "nbformat": 4,
 "nbformat_minor": 2
}
